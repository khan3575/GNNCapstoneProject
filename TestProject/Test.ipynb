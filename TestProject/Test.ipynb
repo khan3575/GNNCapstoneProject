{
 "cells": [
  {
   "cell_type": "code",
   "execution_count": 1,
   "id": "5fc01cba",
   "metadata": {},
   "outputs": [],
   "source": [
    "import torch\n",
    "import torch.nn.functional as F\n",
    "from torch_geometric.data import Data\n",
    "from torch_geometric.nn import GCNConv\n",
    "\n",
    "import pandas as pd\n",
    "import numpy as np\n",
    "import matplotlib.pyplot as plt\n"
   ]
  },
  {
   "cell_type": "code",
   "execution_count": 2,
   "id": "9da40e1c",
   "metadata": {},
   "outputs": [
    {
     "name": "stdout",
     "output_type": "stream",
     "text": [
      "Using device: cpu\n"
     ]
    }
   ],
   "source": [
    "device = torch.device('cuda' if torch.cuda.is_available() else 'cpu')\n",
    "print(f\"Using device: {device}\")\n"
   ]
  },
  {
   "cell_type": "code",
   "execution_count": 5,
   "id": "f3ad8f08",
   "metadata": {},
   "outputs": [
    {
     "name": "stdout",
     "output_type": "stream",
     "text": [
      "Data(x=[5, 3], edge_index=[2, 4], y=[5])\n"
     ]
    }
   ],
   "source": [
    "# Simulating simple node features and labels for now\n",
    "# Later you can load real brain cancer graph data here\n",
    "\n",
    "# Node features (5 nodes, 3 features per node)\n",
    "x = torch.tensor([\n",
    "    [1, 0, 1],\n",
    "    [0, 1, 1],\n",
    "    [1, 1, 0],\n",
    "    [0, 0, 1],\n",
    "    [1, 0, 0]\n",
    "], dtype=torch.float)\n",
    "\n",
    "# Edges (source -> target) [2 rows: [from], [to]]\n",
    "edge_index = torch.tensor([\n",
    "    [0, 1, 2, 3],\n",
    "    [1, 2, 3, 4]\n",
    "], dtype=torch.long)\n",
    "\n",
    "# Labels for nodes (e.g. 0 = healthy, 1 = cancerous)\n",
    "y = torch.tensor([0, 1, 1, 0, 1], dtype=torch.long)\n",
    "\n",
    "data = Data(x=x, edge_index=edge_index, y=y)\n",
    "print(data)\n"
   ]
  },
  {
   "cell_type": "code",
   "execution_count": 6,
   "id": "668c3247",
   "metadata": {},
   "outputs": [],
   "source": [
    "from torch.nn import Module\n",
    "\n",
    "class GCN(Module):\n",
    "    def __init__(self):\n",
    "        super(GCN, self).__init__()\n",
    "        self.conv1 = GCNConv(3, 4)  # 3 input features → 4 hidden\n",
    "        self.conv2 = GCNConv(4, 2)  # 4 hidden → 2 output classes\n",
    "\n",
    "    def forward(self, data):\n",
    "        x, edge_index = data.x, data.edge_index\n",
    "        x = self.conv1(x, edge_index)\n",
    "        x = F.relu(x)\n",
    "        x = self.conv2(x, edge_index)\n",
    "        return x\n"
   ]
  },
  {
   "cell_type": "code",
   "execution_count": 7,
   "id": "16c33c6a",
   "metadata": {},
   "outputs": [
    {
     "name": "stdout",
     "output_type": "stream",
     "text": [
      "Epoch 0, Loss: 0.6768\n",
      "Epoch 10, Loss: 0.6417\n",
      "Epoch 20, Loss: 0.6320\n",
      "Epoch 30, Loss: 0.6179\n",
      "Epoch 40, Loss: 0.6033\n",
      "Epoch 50, Loss: 0.5871\n",
      "Epoch 60, Loss: 0.5672\n",
      "Epoch 70, Loss: 0.5439\n",
      "Epoch 80, Loss: 0.5184\n",
      "Epoch 90, Loss: 0.4910\n"
     ]
    }
   ],
   "source": [
    "model = GCN().to(device)\n",
    "data = data.to(device)\n",
    "\n",
    "optimizer = torch.optim.Adam(model.parameters(), lr=0.01)\n",
    "loss_fn = torch.nn.CrossEntropyLoss()\n",
    "\n",
    "for epoch in range(100):\n",
    "    model.train()\n",
    "    optimizer.zero_grad()\n",
    "    out = model(data)\n",
    "    loss = loss_fn(out, data.y)\n",
    "    loss.backward()\n",
    "    optimizer.step()\n",
    "    \n",
    "    if epoch % 10 == 0:\n",
    "        print(f\"Epoch {epoch}, Loss: {loss.item():.4f}\")\n"
   ]
  },
  {
   "cell_type": "code",
   "execution_count": 8,
   "id": "4c99b328",
   "metadata": {},
   "outputs": [
    {
     "name": "stdout",
     "output_type": "stream",
     "text": [
      "Predicted: [0, 1, 1, 1, 1]\n",
      "Actual:    [0, 1, 1, 0, 1]\n"
     ]
    }
   ],
   "source": [
    "model.eval()\n",
    "_, pred = model(data).max(dim=1)\n",
    "\n",
    "print(\"Predicted:\", pred.tolist())\n",
    "print(\"Actual:   \", data.y.tolist())\n"
   ]
  }
 ],
 "metadata": {
  "kernelspec": {
   "display_name": ".env",
   "language": "python",
   "name": "python3"
  },
  "language_info": {
   "codemirror_mode": {
    "name": "ipython",
    "version": 3
   },
   "file_extension": ".py",
   "mimetype": "text/x-python",
   "name": "python",
   "nbconvert_exporter": "python",
   "pygments_lexer": "ipython3",
   "version": "3.13.1"
  }
 },
 "nbformat": 4,
 "nbformat_minor": 5
}
