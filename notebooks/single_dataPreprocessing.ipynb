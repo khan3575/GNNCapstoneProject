{
 "cells": [
  {
   "cell_type": "code",
   "execution_count": 13,
   "id": "da90e154",
   "metadata": {},
   "outputs": [
    {
     "name": "stdout",
     "output_type": "stream",
     "text": [
      "Requirement already satisfied: nibabel in /home/khan/Desktop/Capstone/GNNBasedTumorSegmentation/GNN_TumorSeg/gnn-env/lib/python3.12/site-packages (5.3.2)\n",
      "Requirement already satisfied: matplotlib in /home/khan/Desktop/Capstone/GNNBasedTumorSegmentation/GNN_TumorSeg/gnn-env/lib/python3.12/site-packages (3.10.5)\n",
      "Requirement already satisfied: numpy>=1.22 in /home/khan/Desktop/Capstone/GNNBasedTumorSegmentation/GNN_TumorSeg/gnn-env/lib/python3.12/site-packages (from nibabel) (2.1.2)\n",
      "Requirement already satisfied: packaging>=20 in /home/khan/Desktop/Capstone/GNNBasedTumorSegmentation/GNN_TumorSeg/gnn-env/lib/python3.12/site-packages (from nibabel) (25.0)\n",
      "Requirement already satisfied: typing-extensions>=4.6 in /home/khan/Desktop/Capstone/GNNBasedTumorSegmentation/GNN_TumorSeg/gnn-env/lib/python3.12/site-packages (from nibabel) (4.12.2)\n",
      "Requirement already satisfied: contourpy>=1.0.1 in /home/khan/Desktop/Capstone/GNNBasedTumorSegmentation/GNN_TumorSeg/gnn-env/lib/python3.12/site-packages (from matplotlib) (1.3.3)\n",
      "Requirement already satisfied: cycler>=0.10 in /home/khan/Desktop/Capstone/GNNBasedTumorSegmentation/GNN_TumorSeg/gnn-env/lib/python3.12/site-packages (from matplotlib) (0.12.1)\n",
      "Requirement already satisfied: fonttools>=4.22.0 in /home/khan/Desktop/Capstone/GNNBasedTumorSegmentation/GNN_TumorSeg/gnn-env/lib/python3.12/site-packages (from matplotlib) (4.59.2)\n",
      "Requirement already satisfied: kiwisolver>=1.3.1 in /home/khan/Desktop/Capstone/GNNBasedTumorSegmentation/GNN_TumorSeg/gnn-env/lib/python3.12/site-packages (from matplotlib) (1.4.9)\n",
      "Requirement already satisfied: pillow>=8 in /home/khan/Desktop/Capstone/GNNBasedTumorSegmentation/GNN_TumorSeg/gnn-env/lib/python3.12/site-packages (from matplotlib) (11.0.0)\n",
      "Requirement already satisfied: pyparsing>=2.3.1 in /home/khan/Desktop/Capstone/GNNBasedTumorSegmentation/GNN_TumorSeg/gnn-env/lib/python3.12/site-packages (from matplotlib) (3.2.3)\n",
      "Requirement already satisfied: python-dateutil>=2.7 in /home/khan/Desktop/Capstone/GNNBasedTumorSegmentation/GNN_TumorSeg/gnn-env/lib/python3.12/site-packages (from matplotlib) (2.9.0.post0)\n",
      "Requirement already satisfied: six>=1.5 in /home/khan/Desktop/Capstone/GNNBasedTumorSegmentation/GNN_TumorSeg/gnn-env/lib/python3.12/site-packages (from python-dateutil>=2.7->matplotlib) (1.17.0)\n",
      "Note: you may need to restart the kernel to use updated packages.\n"
     ]
    }
   ],
   "source": [
    "#installing necessary library\n",
    "%pip install nibabel matplotlib"
   ]
  },
  {
   "cell_type": "code",
   "execution_count": 14,
   "id": "a0872c8d",
   "metadata": {},
   "outputs": [],
   "source": [
    "#setting up helper functions\n",
    "#imports\n",
    "\n",
    "import argparse\n",
    "from pathlib import Path\n",
    "import numpy as np\n",
    "import nibabel as nib\n",
    "import matplotlib.pyplot as plt\n"
   ]
  },
  {
   "cell_type": "code",
   "execution_count": 15,
   "id": "f286cc74",
   "metadata": {},
   "outputs": [],
   "source": [
    "#file finding function for single file\n",
    "\n",
    "def find_file(case_dir : Path, modality : str) -> Path:\n",
    "    found = list(case_dir.glob(f\"*_{modality}.nii*\"))\n",
    "    if not found:\n",
    "        raise FileNotFoundError (f\"couldnt find the modality '{modality}' in {dir}\")\n",
    "    return found[0]\n",
    "\n"
   ]
  },
  {
   "cell_type": "code",
   "execution_count": 16,
   "id": "05845789",
   "metadata": {},
   "outputs": [],
   "source": [
    "def load_case(case_dir : Path, modalities=(\"flair\",), seg_mod=\"seg\"):\n",
    "    vols = {}\n",
    "    for m in modalities:\n",
    "        p = find_file(case_dir, m)\n",
    "        vols[m] =  nib.load(str(p)).get_fdata().astype(np.float32)\n",
    "        seg_p = find_file(case_dir, seg_mod)\n",
    "        seg = nib.load(str(seg_p)).get_fdata().astype(np.int16)\n",
    "        wt = (seg > 0).astype(np.uint8)\n",
    "        return vols, wt\n",
    "    "
   ]
  },
  {
   "cell_type": "code",
   "execution_count": 17,
   "id": "1f0a44de",
   "metadata": {},
   "outputs": [],
   "source": [
    "def pick_slices(wt: np.ndarray, min_pos: int = 200):\n",
    "    z_list = []\n",
    "    for z in range(wt.shape[2]):\n",
    "        cnt = int((wt[:, :, z] > 0).sum())\n",
    "        if cnt >= min_pos:\n",
    "            z_list.append((z, cnt))\n",
    "    return z_list"
   ]
  },
  {
   "cell_type": "code",
   "execution_count": 18,
   "id": "b457d997",
   "metadata": {},
   "outputs": [],
   "source": [
    "def save_slice_and_overlay(flair: np.ndarray, wt: np.ndarray, z: int, out_dir: Path, prefix: str):\n",
    "    out_dir.mkdir(parents=True, exist_ok=True)\n",
    "    sl_img = flair[:, :, z]\n",
    "    sl_mask = wt[:, :, z].astype(bool)\n",
    "\n",
    "    # Save raw FLAIR\n",
    "    plt.figure(figsize=(4,4))\n",
    "    plt.imshow(sl_img, cmap=\"gray\")\n",
    "    plt.axis(\"off\")\n",
    "    plt.title(f\"FLAIR z={z}\")\n",
    "    plt.tight_layout()\n",
    "    f1 = out_dir / f\"{prefix}_flair_z{z}.png\"\n",
    "    plt.savefig(f1, dpi=150)\n",
    "    plt.close()\n",
    "\n",
    "    # Save overlay\n",
    "    plt.figure(figsize=(4,4))\n",
    "    plt.imshow(sl_img, cmap=\"gray\")\n",
    "    plt.imshow(np.ma.masked_where(~sl_mask, sl_mask), cmap=\"Reds\", alpha=0.4)\n",
    "    plt.axis(\"off\")\n",
    "    plt.title(f\"Overlay (WT) z={z}\")\n",
    "    plt.tight_layout()\n",
    "    f2 = out_dir / f\"{prefix}_overlay_z{z}.png\"\n",
    "    plt.savefig(f2, dpi=150)\n",
    "    plt.close()\n",
    "    return f1, f2"
   ]
  },
  {
   "cell_type": "code",
   "execution_count": 23,
   "id": "50e28754",
   "metadata": {},
   "outputs": [],
   "source": [
    "from pathlib import Path\n",
    "\n",
    "# Define the project root manually\n",
    "BASE_DIR = Path.cwd().parent  # This goes from notebooks/ -> GNN_TumorSeg/\n",
    "\n",
    "case_dir = BASE_DIR / \"data\" / \"BraTS2021_00495\"\n",
    "out_dir = BASE_DIR / \"outputs\" / \"step1\"\n",
    "\n",
    "modalities = (\"flair\",)\n",
    "min_pos = 200\n"
   ]
  },
  {
   "cell_type": "code",
   "execution_count": 24,
   "id": "1d7e3106",
   "metadata": {},
   "outputs": [
    {
     "ename": "FileNotFoundError",
     "evalue": "couldnt find the modality 'flair' in <built-in function dir>",
     "output_type": "error",
     "traceback": [
      "\u001b[31m---------------------------------------------------------------------------\u001b[39m",
      "\u001b[31mFileNotFoundError\u001b[39m                         Traceback (most recent call last)",
      "\u001b[36mCell\u001b[39m\u001b[36m \u001b[39m\u001b[32mIn[24]\u001b[39m\u001b[32m, line 8\u001b[39m\n\u001b[32m      5\u001b[39m min_pos = \u001b[32m200\u001b[39m\n\u001b[32m      6\u001b[39m out_dir = Path(\u001b[33m\"\u001b[39m\u001b[33moutputs/step1\u001b[39m\u001b[33m\"\u001b[39m)\n\u001b[32m----> \u001b[39m\u001b[32m8\u001b[39m vols, wt = \u001b[43mload_case\u001b[49m\u001b[43m(\u001b[49m\u001b[43mcase_dir\u001b[49m\u001b[43m,\u001b[49m\u001b[43m \u001b[49m\u001b[43mmodalities\u001b[49m\u001b[43m=\u001b[49m\u001b[43mmodalities\u001b[49m\u001b[43m)\u001b[49m\n\u001b[32m      9\u001b[39m flair = vols[modalities[\u001b[32m0\u001b[39m]]\n\u001b[32m     11\u001b[39m H, W, D = flair.shape\n",
      "\u001b[36mCell\u001b[39m\u001b[36m \u001b[39m\u001b[32mIn[16]\u001b[39m\u001b[32m, line 4\u001b[39m, in \u001b[36mload_case\u001b[39m\u001b[34m(case_dir, modalities, seg_mod)\u001b[39m\n\u001b[32m      2\u001b[39m vols = {}\n\u001b[32m      3\u001b[39m \u001b[38;5;28;01mfor\u001b[39;00m m \u001b[38;5;129;01min\u001b[39;00m modalities:\n\u001b[32m----> \u001b[39m\u001b[32m4\u001b[39m     p = \u001b[43mfind_file\u001b[49m\u001b[43m(\u001b[49m\u001b[43mcase_dir\u001b[49m\u001b[43m,\u001b[49m\u001b[43m \u001b[49m\u001b[43mm\u001b[49m\u001b[43m)\u001b[49m\n\u001b[32m      5\u001b[39m     vols[m] =  nib.load(\u001b[38;5;28mstr\u001b[39m(p)).get_fdata().astype(np.float32)\n\u001b[32m      6\u001b[39m     seg_p = find_file(case_dir, seg_mod)\n",
      "\u001b[36mCell\u001b[39m\u001b[36m \u001b[39m\u001b[32mIn[15]\u001b[39m\u001b[32m, line 6\u001b[39m, in \u001b[36mfind_file\u001b[39m\u001b[34m(case_dir, modality)\u001b[39m\n\u001b[32m      4\u001b[39m found = \u001b[38;5;28mlist\u001b[39m(case_dir.glob(\u001b[33mf\u001b[39m\u001b[33m\"\u001b[39m\u001b[33m*_\u001b[39m\u001b[38;5;132;01m{\u001b[39;00mmodality\u001b[38;5;132;01m}\u001b[39;00m\u001b[33m.nii*\u001b[39m\u001b[33m\"\u001b[39m))\n\u001b[32m      5\u001b[39m \u001b[38;5;28;01mif\u001b[39;00m \u001b[38;5;129;01mnot\u001b[39;00m found:\n\u001b[32m----> \u001b[39m\u001b[32m6\u001b[39m     \u001b[38;5;28;01mraise\u001b[39;00m \u001b[38;5;167;01mFileNotFoundError\u001b[39;00m (\u001b[33mf\u001b[39m\u001b[33m\"\u001b[39m\u001b[33mcouldnt find the modality \u001b[39m\u001b[33m'\u001b[39m\u001b[38;5;132;01m{\u001b[39;00mmodality\u001b[38;5;132;01m}\u001b[39;00m\u001b[33m'\u001b[39m\u001b[33m in \u001b[39m\u001b[38;5;132;01m{\u001b[39;00m\u001b[38;5;28mdir\u001b[39m\u001b[38;5;132;01m}\u001b[39;00m\u001b[33m\"\u001b[39m)\n\u001b[32m      7\u001b[39m \u001b[38;5;28;01mreturn\u001b[39;00m found[\u001b[32m0\u001b[39m]\n",
      "\u001b[31mFileNotFoundError\u001b[39m: couldnt find the modality 'flair' in <built-in function dir>"
     ]
    }
   ],
   "source": [
    "#testing the functions\n",
    "\n",
    "case_dir = Path(\"data/BraTS2021_00495\")  # one subject folder\n",
    "modalities = (\"flair\",)                       # start with FLAIR only\n",
    "min_pos = 200\n",
    "out_dir = Path(\"outputs/step1\")\n",
    "\n",
    "vols, wt = load_case(case_dir, modalities=modalities)\n",
    "flair = vols[modalities[0]]\n",
    "\n",
    "H, W, D = flair.shape\n",
    "print(f\"Loaded: {case_dir.name}, shape H×W×D = {H}×{W}×{D}\")\n",
    "print(f\"Total tumor voxels: {int(wt.sum())}\")\n",
    "\n",
    "z_list = pick_slices(wt, min_pos=min_pos)\n",
    "if not z_list:\n",
    "    print(\"No slices met min_pos. Try lowering min_pos.\")\n",
    "else:\n",
    "    print(f\"Found {len(z_list)} candidate slices (showing first 10):\")\n",
    "    print(z_list[:10])\n",
    "    best_z, best_cnt = max(z_list, key=lambda t: t[1])\n",
    "    print(f\"Visualizing z={best_z} (tumor pixels={best_cnt})\")\n",
    "    f_flair, f_overlay = save_slice_and_overlay(flair, wt, best_z, out_dir, case_dir.name)\n",
    "    print(f\"Saved to:- {f_flair}- {f_overlay}\")\n",
    "\n"
   ]
  }
 ],
 "metadata": {
  "kernelspec": {
   "display_name": "gnn-env",
   "language": "python",
   "name": "python3"
  },
  "language_info": {
   "codemirror_mode": {
    "name": "ipython",
    "version": 3
   },
   "file_extension": ".py",
   "mimetype": "text/x-python",
   "name": "python",
   "nbconvert_exporter": "python",
   "pygments_lexer": "ipython3",
   "version": "3.12.3"
  }
 },
 "nbformat": 4,
 "nbformat_minor": 5
}
