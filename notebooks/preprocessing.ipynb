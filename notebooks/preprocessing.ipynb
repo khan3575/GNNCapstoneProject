{
 "cells": [
  {
   "cell_type": "code",
   "execution_count": 2,
   "id": "d42f566c",
   "metadata": {},
   "outputs": [
    {
     "name": "stdout",
     "output_type": "stream",
     "text": [
      "Requirement already satisfied: nibabel in /home/khan/Desktop/Capstone/GNNBasedTumorSegmentation/GNN_TumorSeg/gnn-env/lib/python3.12/site-packages (5.3.2)\n",
      "Requirement already satisfied: matplotlib in /home/khan/Desktop/Capstone/GNNBasedTumorSegmentation/GNN_TumorSeg/gnn-env/lib/python3.12/site-packages (3.10.5)\n",
      "Requirement already satisfied: numpy>=1.22 in /home/khan/Desktop/Capstone/GNNBasedTumorSegmentation/GNN_TumorSeg/gnn-env/lib/python3.12/site-packages (from nibabel) (2.1.2)\n",
      "Requirement already satisfied: packaging>=20 in /home/khan/Desktop/Capstone/GNNBasedTumorSegmentation/GNN_TumorSeg/gnn-env/lib/python3.12/site-packages (from nibabel) (25.0)\n",
      "Requirement already satisfied: typing-extensions>=4.6 in /home/khan/Desktop/Capstone/GNNBasedTumorSegmentation/GNN_TumorSeg/gnn-env/lib/python3.12/site-packages (from nibabel) (4.12.2)\n",
      "Requirement already satisfied: contourpy>=1.0.1 in /home/khan/Desktop/Capstone/GNNBasedTumorSegmentation/GNN_TumorSeg/gnn-env/lib/python3.12/site-packages (from matplotlib) (1.3.3)\n",
      "Requirement already satisfied: cycler>=0.10 in /home/khan/Desktop/Capstone/GNNBasedTumorSegmentation/GNN_TumorSeg/gnn-env/lib/python3.12/site-packages (from matplotlib) (0.12.1)\n",
      "Requirement already satisfied: fonttools>=4.22.0 in /home/khan/Desktop/Capstone/GNNBasedTumorSegmentation/GNN_TumorSeg/gnn-env/lib/python3.12/site-packages (from matplotlib) (4.59.2)\n",
      "Requirement already satisfied: kiwisolver>=1.3.1 in /home/khan/Desktop/Capstone/GNNBasedTumorSegmentation/GNN_TumorSeg/gnn-env/lib/python3.12/site-packages (from matplotlib) (1.4.9)\n",
      "Requirement already satisfied: pillow>=8 in /home/khan/Desktop/Capstone/GNNBasedTumorSegmentation/GNN_TumorSeg/gnn-env/lib/python3.12/site-packages (from matplotlib) (11.0.0)\n",
      "Requirement already satisfied: pyparsing>=2.3.1 in /home/khan/Desktop/Capstone/GNNBasedTumorSegmentation/GNN_TumorSeg/gnn-env/lib/python3.12/site-packages (from matplotlib) (3.2.3)\n",
      "Requirement already satisfied: python-dateutil>=2.7 in /home/khan/Desktop/Capstone/GNNBasedTumorSegmentation/GNN_TumorSeg/gnn-env/lib/python3.12/site-packages (from matplotlib) (2.9.0.post0)\n",
      "Requirement already satisfied: six>=1.5 in /home/khan/Desktop/Capstone/GNNBasedTumorSegmentation/GNN_TumorSeg/gnn-env/lib/python3.12/site-packages (from python-dateutil>=2.7->matplotlib) (1.17.0)\n",
      "Note: you may need to restart the kernel to use updated packages.\n"
     ]
    }
   ],
   "source": [
    "#installing necessary library\n",
    "%pip install nibabel matplotlib"
   ]
  },
  {
   "cell_type": "code",
   "execution_count": null,
   "id": "79e1598b",
   "metadata": {},
   "outputs": [],
   "source": []
  }
 ],
 "metadata": {
  "kernelspec": {
   "display_name": "gnn-env",
   "language": "python",
   "name": "python3"
  },
  "language_info": {
   "codemirror_mode": {
    "name": "ipython",
    "version": 3
   },
   "file_extension": ".py",
   "mimetype": "text/x-python",
   "name": "python",
   "nbconvert_exporter": "python",
   "pygments_lexer": "ipython3",
   "version": "3.12.3"
  }
 },
 "nbformat": 4,
 "nbformat_minor": 5
}
